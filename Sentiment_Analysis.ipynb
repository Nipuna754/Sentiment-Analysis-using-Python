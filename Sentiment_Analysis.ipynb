{
  "nbformat": 4,
  "nbformat_minor": 0,
  "metadata": {
    "colab": {
      "provenance": [],
      "authorship_tag": "ABX9TyOjHRJ4P2Lb0IuxXjzfwY4k",
      "include_colab_link": true
    },
    "kernelspec": {
      "name": "python3",
      "display_name": "Python 3"
    },
    "language_info": {
      "name": "python"
    }
  },
  "cells": [
    {
      "cell_type": "markdown",
      "metadata": {
        "id": "view-in-github",
        "colab_type": "text"
      },
      "source": [
        "<a href=\"https://colab.research.google.com/github/Nipuna754/Sentiment-Analysis-using-Python/blob/main/Sentiment_Analysis.ipynb\" target=\"_parent\"><img src=\"https://colab.research.google.com/assets/colab-badge.svg\" alt=\"Open In Colab\"/></a>"
      ]
    },
    {
      "cell_type": "code",
      "source": [
        "def sentiment_analysis(text):\n",
        "  \"\"\"\n",
        "  Analyzes the sentiment of a given text string.\n",
        "\n",
        "  Args:\n",
        "    text: The string to analyze.\n",
        "\n",
        "  Returns:\n",
        "    \"positive\" if the text contains more positive keywords,\n",
        "    \"negative\" if the text contains more negative keywords,\n",
        "    or \"neutral\" if the counts are equal.\n",
        "  \"\"\"\n",
        "\n",
        "  positive_keywords = [\"happy\", \"joyful\", \"pleased\", \"excited\"]\n",
        "  negative_keywords = [\"sad\", \"angry\", \"upset\", \"depressed\"]\n",
        "\n",
        "  positive_count = 0\n",
        "  negative_count = 0\n",
        "\n",
        "  for word in text.split():\n",
        "    if word in positive_keywords:\n",
        "      positive_count += 1\n",
        "    elif word in negative_keywords:\n",
        "      negative_count += 1\n",
        "\n",
        "  if positive_count > negative_count:\n",
        "    return \"positive\"\n",
        "  elif negative_count > positive_count:\n",
        "    return \"negative\"\n",
        "  else:\n",
        "    return \"neutral\"\n",
        "\n",
        "# Example usage\n",
        "text = \"I am feeling okay today.\"\n",
        "sentiment = sentiment_analysis(text)\n",
        "print(sentiment)  # Output: \"neutral\""
      ],
      "metadata": {
        "colab": {
          "base_uri": "https://localhost:8080/"
        },
        "id": "mDdswywg1cNX",
        "outputId": "5f2090a4-39d3-4d80-b359-8507f3d95fff"
      },
      "execution_count": null,
      "outputs": [
        {
          "output_type": "stream",
          "name": "stdout",
          "text": [
            "neutral\n"
          ]
        }
      ]
    }
  ]
}